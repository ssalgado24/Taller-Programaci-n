{
  "nbformat": 4,
  "nbformat_minor": 0,
  "metadata": {
    "colab": {
      "name": "Taller Programación",
      "provenance": [],
      "authorship_tag": "ABX9TyO7YitrUIJ90TOCji+veswk",
      "include_colab_link": true
    },
    "kernelspec": {
      "name": "python3",
      "display_name": "Python 3"
    }
  },
  "cells": [
    {
      "cell_type": "markdown",
      "metadata": {
        "id": "view-in-github",
        "colab_type": "text"
      },
      "source": [
        "<a href=\"https://colab.research.google.com/github/ssalgado24/Taller-Programacion/blob/master/Taller_Programaci%C3%B3n.ipynb\" target=\"_parent\"><img src=\"https://colab.research.google.com/assets/colab-badge.svg\" alt=\"Open In Colab\"/></a>"
      ]
    },
    {
      "cell_type": "markdown",
      "metadata": {
        "id": "EBTIlegImS7P",
        "colab_type": "text"
      },
      "source": [
        "**TALLER PROGRAMACIÓN**"
      ]
    },
    {
      "cell_type": "markdown",
      "metadata": {
        "id": "v-2kEAt1mWWE",
        "colab_type": "text"
      },
      "source": [
        "**Números de Lucas**\n",
        "\n",
        "Los números de Lucas están relacionado con los números de Fibonacci, y están definidos por la siguiente secuencia  Ln+2=Ln+1+Ln ,  L0=2 ,  L1=1 . Escriba un programa que imprima la siguiente información. El 18-th número de Lucas, el número de Lucas más cercano a 1000, y el primer número de Lucas más grande que 100\n",
        "\n",
        "\n",
        "\n"
      ]
    },
    {
      "cell_type": "code",
      "metadata": {
        "id": "rrUf8DugrmoU",
        "colab_type": "code",
        "colab": {
          "base_uri": "https://localhost:8080/",
          "height": 68
        },
        "outputId": "33a28ce7-451f-464c-d431-f9d797d387a4"
      },
      "source": [
        "import math\n",
        "lucas=[]\n",
        "mayores=[]\n",
        "resta=[]\n",
        "for i in range(0,19):\n",
        "  a=round((pow(((1+math.sqrt(5))/2),i))+(pow(((1-math.sqrt(5))/2),i)))\n",
        "  lucas.append(a)\n",
        "  if lucas[i]>100:\n",
        "    mayores.append(lucas[i])\n",
        "  #print(a)\n",
        "  dif=abs(1000-lucas[i])\n",
        "  resta.append(dif)\n",
        "menor=resta[0]\n",
        "for i in range(len(resta)):\n",
        "  if resta[i]<menor:\n",
        "    menor=resta[i]\n",
        "    posicion=i\n",
        "print(\"El 18-th número de Lucas es \"+ str(lucas[18]))\n",
        "print(\"El número de Lucas más cercano a 1000 es \"+ str(lucas[posicion]))\n",
        "print(\"El primer número de Lucas mayor que 100 es \"+ str(mayores[0]))\n"
      ],
      "execution_count": null,
      "outputs": [
        {
          "output_type": "stream",
          "text": [
            "El 18-th número de Lucas es 5778\n",
            "El número de Lucas más cercano a 1000 es es 843\n",
            "El primer número de Lucas mayor que 100 es 123\n"
          ],
          "name": "stdout"
        }
      ]
    },
    {
      "cell_type": "markdown",
      "metadata": {
        "id": "0rVbxizoLqwj",
        "colab_type": "text"
      },
      "source": [
        "**Algoritmo RSA**\n",
        "\n",
        "El algoritmo RSA, planteado por Rivest, Shamir y Adleman, es un sistema criptográfico válido tanto para cifrar como para firmar digitalmente.\n",
        "\n",
        "La seguridad del algoritmo se centra en la factorización de números enteros. Se posee una clave pública y otra privada.  Cuando se quiere enviar un mensaje, el emisor busca la clave pública del receptor, cifra su mensaje con esa clave, y una vez que el mensaje cifrado llega al receptor, este se ocupa de descifrarlo usando su clave privada.\n",
        "\n",
        "*   **Generación de claves**\n",
        "\n",
        "\n",
        "1.   Se eligen dos números primos diferentes p y q.\n",
        "2.   Se calcula n=p*q\n",
        "3.   Se calcula la función de Euler para φ(n)=(p-1)*(q-1)\n",
        "4.   Se escoge un entero positivo e menor que φ(n), que sea coprimo con φ(n)\n",
        "5.   Se determina un d que satisfaga la congruencia e*d=1(modφ(n)), es decir, que d sea el multiplicador inverso de \n",
        "e modφ(n).\n",
        "\n",
        "\n",
        "*   **Cifrado**\n",
        "\n",
        "Se convierte el mensaje en un número entero m menor que n mediante un protocolo acordado previamente. Para este caso se usará el código ASCII.\n",
        "Posteriormente  se calcula el texto cifrado c mediante\n",
        "\n",
        "    c=m^e (mod n)\n",
        "\n",
        "*   **Descifrado**\n",
        "\n",
        "Se puede recuperar m a partir de c usando el exponente d de la clave privada a partir del siguiente cálculo\n",
        "\n",
        "    m=c^d (mod n)\n",
        "\n",
        "Posteriormente se puede recuperar el mensaje invirtiendo el protocolo.\n",
        "\n",
        "\n",
        "\n",
        "En la implementación que se muestra a continuación, el mensaje se separa por letras y cada una se encripta. El protocolo que se establece previamente para el proceso es el código ASCII"
      ]
    },
    {
      "cell_type": "code",
      "metadata": {
        "id": "i4lSFMtkZXrk",
        "colab_type": "code",
        "colab": {
          "base_uri": "https://localhost:8080/",
          "height": 68
        },
        "outputId": "c847d979-7bd2-4cb0-a591-0135c5140a01"
      },
      "source": [
        "import math\n",
        "import random\n",
        "\n",
        "def sortPrimos(lista):\n",
        "  a=random.choice(lista)\n",
        "  return a\n",
        "\n",
        "\n",
        "def castInt(m):\n",
        "    m_i = []\n",
        "    for character in m:\n",
        "        m_i.append(ord(character))\n",
        "    return m_i\n",
        "\n",
        "\n",
        "def castString(cifrado):\n",
        "    char_cifrado = []\n",
        "    string = \"\"\n",
        "    for number in cifrado:\n",
        "        char_cifrado.append(chr(number))\n",
        "    return (string.join(char_cifrado))\n",
        "\n",
        "\n",
        "def calE(phi_n):\n",
        "    e = 3\n",
        "    while True:\n",
        "        if not math.gcd(e,phi_n) == 1:\n",
        "           e =e +2\n",
        "        else:\n",
        "            return e\n",
        "\n",
        "def calD(phi_n, e):\n",
        "    k = 1\n",
        "    while True: \n",
        "        d, res = divmod(k * phi_n + 1, e)\n",
        "        if res == 0:\n",
        "            return d\n",
        "        k = k+1\n",
        "\n",
        "def proc_Enc(m_i, p, q):\n",
        "    c_i = []\n",
        "    n = (p * q)\n",
        "    phi_n = (p - 1) * (q - 1)\n",
        "    e = calE(phi_n)\n",
        "    for m in m_i:\n",
        "        c = pow(m, e, n)\n",
        "        c_i.append(c) \n",
        "    return c_i\n",
        "\n",
        "def proc_Desenc(c_i, p, q):\n",
        "    m_i = []\n",
        "    n = (p * q)\n",
        "    phi_n = (p - 1) * (q - 1)\n",
        "    e = calE(phi_n)\n",
        "    d = calD(phi_n, e)\n",
        "    for j in c_i:\n",
        "        m = pow(j, d, n)\n",
        "        m_i.append(m)\n",
        "    return m_i\n",
        "\n",
        "if __name__ == \"__main__\":\n",
        "    lista=(127,131, 137, 139, 149, 151, 157, 163, 167, 173, 179, 181, 191, 193, 197, 199, 211, 223, 227, 229, 233, 239, 241, 251, 257, 263, 269, 271, 277, 281)\n",
        "    mensaje = input(\"Introduzca el mensaje que desee encriptar: \")\n",
        "    p=sortPrimos(lista)\n",
        "    q=sortPrimos(lista)\n",
        "    while(q==p):\n",
        "      q=sortPrimos(lista)\n",
        "    m_i = castInt(mensaje)\n",
        "    c_i = proc_Enc(m_i, p, q)\n",
        "    print(\"El resultado de la encriptación es: \", c_i)\n",
        "    m_i2 = proc_Desenc(c_i, p, q)\n",
        "    descMsj = castString(m_i2)\n",
        "    print(\"Al desencriptar se obtiene: \", descMsj)"
      ],
      "execution_count": 10,
      "outputs": [
        {
          "output_type": "stream",
          "text": [
            "Introduzca el mensaje que desee encriptar: Hola mundo\n",
            "El resultado de la encriptación es:  [10819, 13200, 6589, 11815, 17397, 17771, 15112, 14921, 14970, 13200]\n",
            "Al desencriptar se obtiene:  Hola mundo\n"
          ],
          "name": "stdout"
        }
      ]
    },
    {
      "cell_type": "markdown",
      "metadata": {
        "id": "eXOnVimCrBGU",
        "colab_type": "text"
      },
      "source": [
        ""
      ]
    }
  ]
}